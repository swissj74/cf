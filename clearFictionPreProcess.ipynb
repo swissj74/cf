{
 "cells": [
  {
   "cell_type": "code",
   "execution_count": 16,
   "metadata": {
    "collapsed": false
   },
   "outputs": [
    {
     "name": "stdout",
     "output_type": "stream",
     "text": [
      "Exception reporting mode: Context\n",
      "Doctest mode is: OFF\n"
     ]
    }
   ],
   "source": [
    "import tensorflow as tf\n",
    "import re\n",
    "\n",
    "%doctest_mode\n",
    "\n",
    "%matplotlib inline\n",
    "import matplotlib.pyplot as plt\n",
    "\n",
    "import numpy as np\n",
    "import pandas as pd"
   ]
  },
  {
   "cell_type": "code",
   "execution_count": 17,
   "metadata": {
    "collapsed": false
   },
   "outputs": [],
   "source": [
    "from collections import Counter\n",
    "\n",
    "with open(\"../clearfiction-master/singleScript/Best of Enemies.txt\", errors='ignore') as f:\n",
    "    wordcount = Counter(f.read().lower().split())"
   ]
  },
  {
   "cell_type": "code",
   "execution_count": 18,
   "metadata": {
    "collapsed": false
   },
   "outputs": [],
   "source": [
    "intScenes =  0\n",
    "extScenes =  0\n",
    "\n",
    "for word in list(wordcount):\n",
    "    if re.match(r'(int\\.)', word):\n",
    "        intScenes += wordcount[word]\n",
    "        #print(word, wordcount[word])\n",
    "    elif re.match(r'(car.)*(ext\\.)', word): \n",
    "        extScenes += wordcount[word]\n",
    "        #print(word, wordcount[word])"
   ]
  },
  {
   "cell_type": "code",
   "execution_count": 19,
   "metadata": {
    "collapsed": false
   },
   "outputs": [],
   "source": [
    "totalScenes = intScenes + extScenes\n",
    "interiorPercentage = intScenes/totalScenes"
   ]
  },
  {
   "cell_type": "code",
   "execution_count": 20,
   "metadata": {
    "collapsed": false
   },
   "outputs": [],
   "source": [
    "cf_in = pd.read_csv(\"singleScript.csv\", verbose=False)"
   ]
  },
  {
   "cell_type": "code",
   "execution_count": 21,
   "metadata": {
    "collapsed": false
   },
   "outputs": [
    {
     "data": {
      "text/html": [
       "<div>\n",
       "<table border=\"1\" class=\"dataframe\">\n",
       "  <thead>\n",
       "    <tr style=\"text-align: right;\">\n",
       "      <th></th>\n",
       "      <th>Unnamed: 0</th>\n",
       "      <th>Movie.ID</th>\n",
       "      <th>TITLE</th>\n",
       "      <th>LogBox</th>\n",
       "      <th>logROI</th>\n",
       "      <th>LogBudget</th>\n",
       "      <th>BUDGET</th>\n",
       "      <th>BOX</th>\n",
       "      <th>scrCnt</th>\n",
       "      <th>GENRE_DRA</th>\n",
       "      <th>...</th>\n",
       "      <th>avgBuild</th>\n",
       "      <th>avgLockIn</th>\n",
       "      <th>avgResolut</th>\n",
       "      <th>avgBelieve</th>\n",
       "      <th>avgSurpEnd</th>\n",
       "      <th>NSCENE</th>\n",
       "      <th>INTPREC</th>\n",
       "      <th>WF1</th>\n",
       "      <th>WF2</th>\n",
       "      <th>predBox</th>\n",
       "    </tr>\n",
       "  </thead>\n",
       "  <tbody>\n",
       "  </tbody>\n",
       "</table>\n",
       "<p>0 rows × 48 columns</p>\n",
       "</div>"
      ],
      "text/plain": [
       "Empty DataFrame\n",
       "Columns: [Unnamed: 0, Movie.ID, TITLE, LogBox, logROI, LogBudget, BUDGET, BOX, scrCnt, GENRE_DRA, GENRE_ROM, GENRE_THR, GENRE_COM, GENRE_HOR, GENRE_SCI, GENRE_ACT, GENRE_FAM, NTITLE, YEAR, avgClrPrem, avgImpPrem, avgFamSet, avgEarExp, avgCoAvoid, avgIntCon, avgSurp, avgAntici, avgFlhback, avgClrMot, avgMulDim, avgHeroW, avgStrNem, avgSymHero, avgLogic, avgCharGrow, avgImp, avgMulConf, avgIntensity, avgBuild, avgLockIn, avgResolut, avgBelieve, avgSurpEnd, NSCENE, INTPREC, WF1, WF2, predBox]\n",
       "Index: []\n",
       "\n",
       "[0 rows x 48 columns]"
      ]
     },
     "execution_count": 21,
     "metadata": {},
     "output_type": "execute_result"
    }
   ],
   "source": [
    "cf_in"
   ]
  },
  {
   "cell_type": "code",
   "execution_count": 22,
   "metadata": {
    "collapsed": false
   },
   "outputs": [],
   "source": [
    "newMovieName = 'Best of Enemies'\n",
    "newMovieId = '999'\n",
    "Budget = 15\n",
    "screen_count = 2500\n",
    "Year = '2017'\n",
    "\n",
    "drama = 1\n",
    "romance = 0\n",
    "thriller = 0\n",
    "comedy = 0\n",
    "horror = 0\n",
    "sci_fi = 0\n",
    "action = 0\n",
    "family = 0\n",
    "\n",
    "cf_in.loc[0, 'Movie.ID'] = newMovieId\n",
    "cf_in['TITLE'] = newMovieName\n",
    "cf_in['BUDGET'] = Budget\n",
    "cf_in['scrCnt'] = screen_count\n",
    "cf_in['YEAR'] = Year\n",
    "\n",
    "cf_in['GENRE_DRA'] = drama\n",
    "cf_in['GENRE_ROM'] = romance\n",
    "cf_in['GENRE_THR'] = thriller\n",
    "cf_in['GENRE_COM'] = comedy\n",
    "cf_in['GENRE_HOR'] = horror\n",
    "cf_in['GENRE_SCI'] = sci_fi\n",
    "cf_in['GENRE_ACT'] = action\n",
    "cf_in['GENRE_FAM'] = family\n",
    "\n",
    "cf_in['NSCENE'] = totalScenes\n",
    "cf_in['INTPREC'] = interiorPercentage\n",
    "cf_in['NTITLE'] = len(newMovieName.split())"
   ]
  },
  {
   "cell_type": "code",
   "execution_count": 23,
   "metadata": {
    "collapsed": false
   },
   "outputs": [
    {
     "data": {
      "text/html": [
       "<div>\n",
       "<table border=\"1\" class=\"dataframe\">\n",
       "  <thead>\n",
       "    <tr style=\"text-align: right;\">\n",
       "      <th></th>\n",
       "      <th>Unnamed: 0</th>\n",
       "      <th>Movie.ID</th>\n",
       "      <th>TITLE</th>\n",
       "      <th>LogBox</th>\n",
       "      <th>logROI</th>\n",
       "      <th>LogBudget</th>\n",
       "      <th>BUDGET</th>\n",
       "      <th>BOX</th>\n",
       "      <th>scrCnt</th>\n",
       "      <th>GENRE_DRA</th>\n",
       "      <th>...</th>\n",
       "      <th>avgBuild</th>\n",
       "      <th>avgLockIn</th>\n",
       "      <th>avgResolut</th>\n",
       "      <th>avgBelieve</th>\n",
       "      <th>avgSurpEnd</th>\n",
       "      <th>NSCENE</th>\n",
       "      <th>INTPREC</th>\n",
       "      <th>WF1</th>\n",
       "      <th>WF2</th>\n",
       "      <th>predBox</th>\n",
       "    </tr>\n",
       "  </thead>\n",
       "  <tbody>\n",
       "    <tr>\n",
       "      <th>0</th>\n",
       "      <td>NaN</td>\n",
       "      <td>999</td>\n",
       "      <td>Best of Enemies</td>\n",
       "      <td>NaN</td>\n",
       "      <td>NaN</td>\n",
       "      <td>NaN</td>\n",
       "      <td>15</td>\n",
       "      <td>NaN</td>\n",
       "      <td>2500</td>\n",
       "      <td>1</td>\n",
       "      <td>...</td>\n",
       "      <td>NaN</td>\n",
       "      <td>NaN</td>\n",
       "      <td>NaN</td>\n",
       "      <td>NaN</td>\n",
       "      <td>NaN</td>\n",
       "      <td>108</td>\n",
       "      <td>0.694444</td>\n",
       "      <td>NaN</td>\n",
       "      <td>NaN</td>\n",
       "      <td>NaN</td>\n",
       "    </tr>\n",
       "  </tbody>\n",
       "</table>\n",
       "<p>1 rows × 48 columns</p>\n",
       "</div>"
      ],
      "text/plain": [
       "  Unnamed: 0 Movie.ID            TITLE LogBox logROI LogBudget  BUDGET  BOX  \\\n",
       "0        NaN      999  Best of Enemies    NaN    NaN       NaN      15  NaN   \n",
       "\n",
       "   scrCnt  GENRE_DRA   ...    avgBuild  avgLockIn  avgResolut  avgBelieve  \\\n",
       "0    2500          1   ...         NaN        NaN         NaN         NaN   \n",
       "\n",
       "   avgSurpEnd  NSCENE   INTPREC  WF1  WF2 predBox  \n",
       "0         NaN     108  0.694444  NaN  NaN     NaN  \n",
       "\n",
       "[1 rows x 48 columns]"
      ]
     },
     "execution_count": 23,
     "metadata": {},
     "output_type": "execute_result"
    }
   ],
   "source": [
    "#cf_in.to_csv(\"singleScript.csv\")\n",
    "cf_in"
   ]
  },
  {
   "cell_type": "code",
   "execution_count": 24,
   "metadata": {
    "collapsed": false
   },
   "outputs": [],
   "source": [
    "storyLineQ = pd.read_csv(\"https://docs.google.com/spreadsheets/d/1hurW9NpVpSG5zcInah4jJweE3bBfQLmpPnytBuItGfI/pub?output=csv\")"
   ]
  },
  {
   "cell_type": "code",
   "execution_count": 25,
   "metadata": {
    "collapsed": false
   },
   "outputs": [],
   "source": [
    "for i in range(len(storyLineQ.columns)):\n",
    "    storyLineQ.replace({storyLineQ.columns[i]: 'No'}, 0, inplace=True)\n",
    "    storyLineQ.replace({storyLineQ.columns[i]: 'Yes'}, 1, inplace=True)"
   ]
  },
  {
   "cell_type": "code",
   "execution_count": 26,
   "metadata": {
    "collapsed": false
   },
   "outputs": [],
   "source": [
    "avgStoryLineQ = storyLineQ.groupby([storyLineQ.columns.values[5]]).mean()"
   ]
  },
  {
   "cell_type": "code",
   "execution_count": 27,
   "metadata": {
    "collapsed": false
   },
   "outputs": [],
   "source": [
    "avgStoryLineQ.to_csv(\"avgStoryLineQ.csv\")\n",
    "avgStoryLineQ = pd.read_csv(\"avgStoryLineQ.csv\")"
   ]
  },
  {
   "cell_type": "code",
   "execution_count": null,
   "metadata": {
    "collapsed": true
   },
   "outputs": [],
   "source": []
  },
  {
   "cell_type": "code",
   "execution_count": 28,
   "metadata": {
    "collapsed": true
   },
   "outputs": [],
   "source": [
    "a  = avgStoryLineQ.loc[avgStoryLineQ['Name of Movie'] == newMovieName, 'Storyline Questions [1. The story has a clear premise \\xa0TIP: Is the theme and narrative easy to understand?\\xa0]']\n",
    "cf_in['avgClrPrem'] = a.values\n",
    "\n",
    "a  = avgStoryLineQ.loc[avgStoryLineQ['Name of Movie'] == newMovieName, 'Storyline Questions [2. The story has a premise that is important to audiences\\xa0]']\n",
    "cf_in['avgImpPrem'] = a.values\n",
    "\n",
    "a  = avgStoryLineQ.loc[avgStoryLineQ['Name of Movie'] == newMovieName, 'Storyline Questions [3. The setting of the story is familiar to audiences.]']\n",
    "cf_in['avgFamSet'] = a.values\n",
    "\n",
    "a  = avgStoryLineQ.loc[avgStoryLineQ['Name of Movie'] == newMovieName, 'Storyline Questions [4. Information about characters comes very early in the story. TIP: Do you get introduced to characters early on?]']\n",
    "cf_in['avgEarExp'] = a.values\n",
    "\n",
    "a  = avgStoryLineQ.loc[avgStoryLineQ['Name of Movie'] == newMovieName, 'Storyline Questions [5. The story follows a logical and causal relationship; coincidences are avoided]']\n",
    "cf_in['avgCoAvoid'] = a.values\n",
    "\n",
    "a  = avgStoryLineQ.loc[avgStoryLineQ['Name of Movie'] == newMovieName, 'Storyline Questions [6. Each scene advances the plot and is closely connected to the central conflict. TIP: There aren\\'t any scenes that seem unnecessary. \\xa0]']\n",
    "cf_in['avgIntCon'] = a.values\n",
    "\n",
    "a  = avgStoryLineQ.loc[avgStoryLineQ['Name of Movie'] == newMovieName, 'Storyline Questions [7. The story contains elements of surprise, but is logical within context and within its own rules. TIP: Surprising but not implausible.]']\n",
    "cf_in['avgSurp'] = a.values\n",
    "\n",
    "a  = avgStoryLineQ.loc[avgStoryLineQ['Name of Movie'] == newMovieName, 'Storyline Questions [8. The story keeps readers trying to anticipate what would happen next.]']\n",
    "cf_in['avgAntici'] = a.values\n",
    "\n",
    "a  = avgStoryLineQ.loc[avgStoryLineQ['Name of Movie'] == newMovieName, 'Storyline Questions [9. The story contains flashback sequences. TIP: A flashback is set in a time earlier than the main story]']\n",
    "cf_in['avgFlhback'] = a.values\n",
    "\n",
    "a  = avgStoryLineQ.loc[avgStoryLineQ['Name of Movie'] == newMovieName, 'Storyline Questions [10. The hero of the story has a clear outer motivation (what he/she wants to achieve by the end of the movie).]']\n",
    "cf_in['avgClrMot'] = a.values\n",
    "\n",
    "a  = avgStoryLineQ.loc[avgStoryLineQ['Name of Movie'] == newMovieName, 'Storyline Questions [11. Many dimensions (personality traits) of the hero are explored.]']\n",
    "cf_in['avgMulDim'] = a.values\n",
    "\n",
    "a  = avgStoryLineQ.loc[avgStoryLineQ['Name of Movie'] == newMovieName, 'Storyline Questions [12. Hero has an inherent weakness. TIP: A weakness that is internal rather than coming from the environment.]']\n",
    "cf_in['avgHeroW'] = a.values\n",
    "\n",
    "a  = avgStoryLineQ.loc[avgStoryLineQ['Name of Movie'] == newMovieName, 'Storyline Questions [13. There is a strong antagonist in the story. TIP: If there is no human antagonist, does a nemesis seem impossible to overcome?]']\n",
    "cf_in['avgStrNem'] = a.values\n",
    "\n",
    "a  = avgStoryLineQ.loc[avgStoryLineQ['Name of Movie'] == newMovieName, 'Storyline Questions [14. The hero attracts your sympathy.]']\n",
    "cf_in['avgSymHero'] = a.values\n",
    "\n",
    "a  = avgStoryLineQ.loc[avgStoryLineQ['Name of Movie'] == newMovieName, 'Storyline Questions [15. The actions of the main characters are logical considering their characteristics. They sometimes hold surprises but are believable.]']\n",
    "cf_in['avgLogic'] = a.values\n",
    "\n",
    "a  = avgStoryLineQ.loc[avgStoryLineQ['Name of Movie'] == newMovieName, 'Storyline Questions [16. The hero grows and changes because of the conflict in the story.]']\n",
    "cf_in['avgCharGrow'] = a.values\n",
    "\n",
    "a  = avgStoryLineQ.loc[avgStoryLineQ['Name of Movie'] == newMovieName, 'Storyline Questions [17. The story has a very clear conflict that involves high emotional stakes.]']\n",
    "cf_in['avgImp'] = a.values\n",
    "\n",
    "a  = avgStoryLineQ.loc[avgStoryLineQ['Name of Movie'] == newMovieName, 'Storyline Questions [18. The central conflict has multiple dimensions. TIP: Are there many elements and angles to the conflict. \\xa0]']\n",
    "cf_in['avgMulConf'] = a.values\n",
    "\n",
    "a  = avgStoryLineQ.loc[avgStoryLineQ['Name of Movie'] == newMovieName, 'Storyline Questions [19. Characters in the central conflict have strong convictions and determination in what they do.]']\n",
    "cf_in['avgIntensity'] = a.values\n",
    "\n",
    "a  = avgStoryLineQ.loc[avgStoryLineQ['Name of Movie'] == newMovieName, 'Storyline Questions [20. The hero faces a series of hurdles. Each successive hurdle is greater and more provocative than the previous one.]']\n",
    "cf_in['avgBuild'] = a.values\n",
    "\n",
    "a  = avgStoryLineQ.loc[avgStoryLineQ['Name of Movie'] == newMovieName, 'Storyline Questions [21. The hero is forced into the conflict very early in the movie.\\xa0]']\n",
    "cf_in['avgLockIn'] = a.values\n",
    "\n",
    "a  = avgStoryLineQ.loc[avgStoryLineQ['Name of Movie'] == newMovieName, 'Storyline Questions [22. Conflict is unambiguously and resolutely resolved through confrontation between the hero and the antagonist at the end. TIP: If there\\'s no antagonist, did the hero win without any possibility of things going back to how they were at the start?\\xa0]']\n",
    "cf_in['avgResolut'] = a.values\n",
    "\n",
    "a  = avgStoryLineQ.loc[avgStoryLineQ['Name of Movie'] == newMovieName, 'Storyline Questions [23. The ending is believable.]']\n",
    "cf_in['avgBelieve'] = a.values\n",
    "\n",
    "a  = avgStoryLineQ.loc[avgStoryLineQ['Name of Movie'] == newMovieName, 'Storyline Questions [24. The ending carries surprise and is unexpected.]']\n",
    "cf_in['avgSurpEnd'] = a.values\n",
    "\n",
    "cf_in.to_csv(\"singleScript.csv\")"
   ]
  },
  {
   "cell_type": "code",
   "execution_count": null,
   "metadata": {
    "collapsed": false
   },
   "outputs": [],
   "source": []
  },
  {
   "cell_type": "code",
   "execution_count": null,
   "metadata": {
    "collapsed": false
   },
   "outputs": [],
   "source": []
  },
  {
   "cell_type": "code",
   "execution_count": null,
   "metadata": {
    "collapsed": false
   },
   "outputs": [],
   "source": []
  },
  {
   "cell_type": "code",
   "execution_count": null,
   "metadata": {
    "collapsed": true
   },
   "outputs": [],
   "source": []
  }
 ],
 "metadata": {
  "anaconda-cloud": {},
  "kernelspec": {
   "display_name": "Python [default]",
   "language": "python",
   "name": "python3"
  },
  "language_info": {
   "codemirror_mode": {
    "name": "ipython",
    "version": 3
   },
   "file_extension": ".py",
   "mimetype": "text/x-python",
   "name": "python",
   "nbconvert_exporter": "python",
   "pygments_lexer": "ipython3",
   "version": "3.5.2"
  }
 },
 "nbformat": 4,
 "nbformat_minor": 1
}
