{
 "cells": [
  {
   "cell_type": "code",
   "execution_count": 1,
   "metadata": {
    "collapsed": false
   },
   "outputs": [
    {
     "name": "stdout",
     "output_type": "stream",
     "text": [
      "Exception reporting mode: Plain\n",
      "Doctest mode is: ON\n"
     ]
    }
   ],
   "source": [
    "%doctest_mode\n",
    "\n",
    "%matplotlib inline\n",
    "import matplotlib.pyplot as plt\n",
    "\n",
    "import numpy as np\n",
    "import pandas as pd\n",
    "\n",
    "# Import the linear regression class\n",
    "from sklearn.linear_model import LinearRegression\n",
    "\n",
    "# Sklearn also has a helper that makes it easy to do cross validation\n",
    "from sklearn.cross_validation import KFold\n",
    "\n",
    "# train test split made easy\n",
    "from sklearn.cross_validation import train_test_split\n",
    "\n",
    "#statistics and Integration\n",
    "from scipy import stats, integrate\n",
    "\n",
    "\n",
    "# Import preprocessing class\n",
    "from sklearn import preprocessing\n",
    "\n"
   ]
  },
  {
   "cell_type": "code",
   "execution_count": 2,
   "metadata": {
    "collapsed": false
   },
   "outputs": [
    {
     "name": "stderr",
     "output_type": "stream",
     "text": [
      "/home/swissj74/anaconda3/lib/python3.5/site-packages/pandas/core/indexing.py:132: SettingWithCopyWarning: \n",
      "A value is trying to be set on a copy of a slice from a DataFrame\n",
      "\n",
      "See the caveats in the documentation: http://pandas.pydata.org/pandas-docs/stable/indexing.html#indexing-view-versus-copy\n",
      "  self._setitem_with_indexer(indexer, value)\n"
     ]
    }
   ],
   "source": [
    "# read in the cvs\n",
    "cf_pd = pd.read_csv(\"cf.csv\", verbose=False)\n",
    "\n",
    "# get the data for predictions\n",
    "cf_in = pd.read_csv(\"singleScript.csv\", verbose=False)\n",
    "\n",
    "#create the Profit feature where Profit = 1 if BOX / BUDGET >= 1 and 0 otherwise\n",
    "cf_pd[\"Profit\"] = cf_pd[\"BOX\"] / cf_pd[\"BUDGET\"]\n",
    "\n",
    "cf_pd['Profit'].loc[cf_pd['Profit'] >= 1.] = 1\n",
    "cf_pd['Profit'].loc[cf_pd['Profit'] < 1.] = 0\n",
    "\n",
    "#80/20 split into train and test\n",
    "cf_pd_train, cf_pd_test = train_test_split(cf_pd, test_size=0.2)"
   ]
  },
  {
   "cell_type": "code",
   "execution_count": 3,
   "metadata": {
    "collapsed": false
   },
   "outputs": [],
   "source": [
    "#create a dataframe to hold the results\n",
    "#contains the model name, the features used, movie name, and predicted box\n",
    "#results = pd.DataFrame(index = ['lr_model', 'rr_model', 'rr_cv_model', 'lasso_cv_model', 'rr_cv_lasso_model'\n",
    "#                                , 'elastic_net_model', 'elastic_net_model']\n",
    "#                                , columns=['Features', 'MovieName', 'PredictedBox'])"
   ]
  },
  {
   "cell_type": "code",
   "execution_count": 4,
   "metadata": {
    "collapsed": false
   },
   "outputs": [],
   "source": [
    "my_features = ['BUDGET', 'scrCnt', 'GENRE_DRA', 'GENRE_ROM', 'GENRE_THR', 'GENRE_COM', 'GENRE_HOR', 'GENRE_SCI'\n",
    "               , 'GENRE_ACT', 'GENRE_FAM', 'NTITLE', 'YEAR', 'avgClrPrem', 'avgImpPrem', 'avgFamSet', 'avgEarExp'\n",
    "               , 'avgCoAvoid', 'avgIntCon', 'avgSurp', 'avgAntici', 'avgFlhback', 'avgClrMot', 'avgMulDim'\n",
    "               , 'avgHeroW', 'avgStrNem', 'avgSymHero', 'avgLogic', 'avgCharGrow', 'avgImp', 'avgMulConf'\n",
    "               , 'avgIntensity', 'avgBuild', 'avgLockIn', 'avgResolut', 'avgBelieve', 'avgSurpEnd', 'NSCENE'\n",
    "               , 'INTPREC']"
   ]
  },
  {
   "cell_type": "code",
   "execution_count": 5,
   "metadata": {
    "collapsed": false
   },
   "outputs": [
    {
     "name": "stderr",
     "output_type": "stream",
     "text": [
      "/home/swissj74/anaconda3/lib/python3.5/site-packages/pandas/core/indexing.py:465: SettingWithCopyWarning: \n",
      "A value is trying to be set on a copy of a slice from a DataFrame.\n",
      "Try using .loc[row_indexer,col_indexer] = value instead\n",
      "\n",
      "See the caveats in the documentation: http://pandas.pydata.org/pandas-docs/stable/indexing.html#indexing-view-versus-copy\n",
      "  self.obj[item] = s\n"
     ]
    }
   ],
   "source": [
    "# Normalizing the data\n",
    "scaler = preprocessing.StandardScaler().fit(cf_pd_train[my_features])\n",
    "cf_pd_train.loc[:, my_features] = scaler.transform(cf_pd_train[my_features])\n",
    "cf_pd_test.loc[:, my_features] = scaler.transform(cf_pd_test[my_features])\n",
    "cf_in.loc[:, my_features] = scaler.transform(cf_in[my_features])"
   ]
  },
  {
   "cell_type": "code",
   "execution_count": 6,
   "metadata": {
    "collapsed": false
   },
   "outputs": [
    {
     "name": "stdout",
     "output_type": "stream",
     "text": [
      "Coefficients: \n",
      " [ 37.43563578  18.81930685 -10.82414368  -4.00940937  -8.91094071\n",
      "  -6.27864241 -12.64023581  -3.86843895  -2.20658594  12.10125048\n",
      "  19.34251427  -4.65353041  -2.05831243 -12.79455824  17.52012817\n",
      "   0.91976729  -6.77747734   3.14823717   9.76175469  -4.95787714\n",
      "   1.67566109  -0.80109124   2.63308375   9.6695825   -1.81167212\n",
      "   6.49593475   9.00971951   4.3377218   -4.70509557   6.08743735\n",
      "   3.54428934   0.06100503  12.24067728  -7.77444317  -9.17207415\n",
      "  -3.93576902  10.08626861   0.5303532 ]\n",
      "Residual sum of squares: 4353.27\n",
      "Variance score: 0.26\n",
      "Predicted Box Office: 230.75\n"
     ]
    }
   ],
   "source": [
    "from sklearn import linear_model\n",
    "lr_model = linear_model.LinearRegression()\n",
    "LinearRegression(copy_X=True, fit_intercept=True, n_jobs=1, normalize=True)\n",
    "lr_model.fit(cf_pd_train[my_features], cf_pd_train[\"BOX\"])\n",
    "\n",
    "\n",
    "# The coefficients\n",
    "print('Coefficients: \\n', lr_model.coef_)\n",
    "# The mean square error\n",
    "print(\"Residual sum of squares: %.2f\"\n",
    "      % np.mean((lr_model.predict(cf_pd_test[my_features]) - cf_pd_test[\"BOX\"]) ** 2))\n",
    "# Explained variance score: 1 is perfect prediction\n",
    "print('Variance score: %.2f' % lr_model.score(cf_pd_test[my_features], cf_pd_test[\"BOX\"]))\n",
    "# Predict with all features\n",
    "print('Predicted Box Office: %.2f' % lr_model.predict(cf_in[my_features]))\n",
    "\n",
    "#results.PredictedBox.loc['lr_model'] = lr_model.predict(cf_in[my_features])\n",
    "#results.MovieName.loc['lr_model'] = cf_in.TITLE.loc[0]\n",
    "#results.Features.loc['lr_model'] = my_features"
   ]
  },
  {
   "cell_type": "code",
   "execution_count": 13,
   "metadata": {
    "collapsed": false
   },
   "outputs": [
    {
     "name": "stdout",
     "output_type": "stream",
     "text": [
      "Model\tResidual sum of Squares\tVariance\tPredicted Box Office\n",
      "lr model \t 4353.266410821524 \t 0.256923861868 \t 230.74586022\n"
     ]
    }
   ],
   "source": [
    "print('Model\\tResidual sum of Squares\\tVariance\\tPredicted Box Office')\n",
    "# The coefficients\n",
    "# print('Coefficients: \\n', lr_model.coef_)\n",
    "# The mean square error\n",
    "rss = np.mean((lr_model.predict(cf_pd_test[my_features]) - cf_pd_test[\"BOX\"]) ** 2)\n",
    "# Explained variance score: 1 is perfect prediction\n",
    "variance = lr_model.score(cf_pd_test[my_features], cf_pd_test[\"BOX\"])\n",
    "# Predict with all features\n",
    "Predicted_Box_Office = lr_model.predict(cf_in[my_features])[0]\n",
    "model = 'lr model'\n",
    "#results.PredictedBox.loc['lr_model'] = lr_model.predict(cf_in[my_features])\n",
    "#results.MovieName.loc['lr_model'] = cf_in.TITLE.loc[0]\n",
    "#results.Features.loc['lr_model'] = my_features\n",
    "\n",
    "print(model, '\\t', rss, '\\t', variance , '\\t', Predicted_Box_Office)"
   ]
  },
  {
   "cell_type": "code",
   "execution_count": 15,
   "metadata": {
    "collapsed": false
   },
   "outputs": [
    {
     "name": "stdout",
     "output_type": "stream",
     "text": [
      "[ 230.74586022]\n"
     ]
    }
   ],
   "source": []
  },
  {
   "cell_type": "code",
   "execution_count": 7,
   "metadata": {
    "collapsed": false
   },
   "outputs": [
    {
     "name": "stdout",
     "output_type": "stream",
     "text": [
      "alpha:  0.1\n",
      "Coefficients: \n",
      " [ 33.78486316  21.45526177  -9.09497951  -7.1868801   -7.29387694\n",
      "  -2.9090056  -15.29124561   0.79536145  -1.82614006  15.88092665\n",
      "  15.90023898 -10.52375116   1.43486902  -9.9592065   12.85603777\n",
      "   4.43831812  -4.21291622  -1.99575216  10.91470169   1.05910122\n",
      "  -2.48716171  -7.35287539   3.82518301   8.79706805   3.32831859\n",
      "   3.52115128  11.55815353   6.74506024  -0.37551963   1.05402391\n",
      "  -0.18654689  -1.68482271   8.86203935  -8.09573028  -3.35948173\n",
      "  -3.4680262    9.67866603   0.17021708]\n",
      "Residual sum of squares: 2921.29\n",
      "Variance score: 0.46\n",
      "Predicted Box Office: -82.20\n",
      "alpha:  1\n",
      "Coefficients: \n",
      " [  3.34931575e+01   2.14523951e+01  -8.89786549e+00  -7.03557373e+00\n",
      "  -7.19304169e+00  -2.75068543e+00  -1.49452287e+01   7.62030433e-01\n",
      "  -1.61741724e+00   1.58540690e+01   1.56247580e+01  -1.02842593e+01\n",
      "   1.48931471e+00  -9.77824061e+00   1.26945480e+01   4.37111080e+00\n",
      "  -4.10880086e+00  -1.83055872e+00   1.07593405e+01   1.05795639e+00\n",
      "  -2.49195079e+00  -7.31346793e+00   3.84336825e+00   8.65850153e+00\n",
      "   3.18182711e+00   3.44120361e+00   1.13604020e+01   6.69763417e+00\n",
      "  -3.82397945e-01   1.01224397e+00  -1.98084863e-01  -1.63413424e+00\n",
      "   8.63545138e+00  -7.98623426e+00  -3.20029082e+00  -3.36239098e+00\n",
      "   9.71145247e+00   3.50972218e-03]\n",
      "Residual sum of squares: 2891.61\n",
      "Variance score: 0.46\n",
      "Predicted Box Office: -80.32\n",
      "alpha:  10\n",
      "Coefficients: \n",
      " [ 31.08447077  21.20503893  -7.47188049  -5.76819796  -6.40073156\n",
      "  -1.527241   -12.37606395   0.46010776  -0.0554377   15.48319729\n",
      "  13.37449959  -8.39061929   1.91424023  -8.36551965  11.28648289\n",
      "   3.86062942  -3.26560053  -0.6660439    9.46987646   1.07629522\n",
      "  -2.5672766   -6.87003696   3.94663015   7.45267595   2.09226574\n",
      "   2.85439609   9.75563616   6.27296162  -0.31077357   0.74619145\n",
      "  -0.30085951  -1.18006525   6.84292926  -7.0774609   -2.05079253\n",
      "  -2.47970016   9.84468823  -1.28476609]\n",
      "Residual sum of squares: 2706.97\n",
      "Variance score: 0.50\n",
      "Predicted Box Office: -64.73\n",
      "alpha:  10.0\n",
      "Coefficients: \n",
      " [ 31.08447077  21.20503893  -7.47188049  -5.76819796  -6.40073156\n",
      "  -1.527241   -12.37606395   0.46010776  -0.0554377   15.48319729\n",
      "  13.37449959  -8.39061929   1.91424023  -8.36551965  11.28648289\n",
      "   3.86062942  -3.26560053  -0.6660439    9.46987646   1.07629522\n",
      "  -2.5672766   -6.87003696   3.94663015   7.45267595   2.09226574\n",
      "   2.85439609   9.75563616   6.27296162  -0.31077357   0.74619145\n",
      "  -0.30085951  -1.18006525   6.84292926  -7.0774609   -2.05079253\n",
      "  -2.47970016   9.84468823  -1.28476609]\n",
      "Residual sum of squares: 2706.97\n",
      "Variance score: 0.50\n",
      "Predicted Box Office: -64.73\n"
     ]
    }
   ],
   "source": [
    "for rr_alpha in [0.1, 1, 10]:\n",
    "    rr_model = linear_model.Ridge (alpha = rr_alpha)\n",
    "    rr_model.fit(cf_pd_train[my_features], cf_pd_train[\"BOX\"])\n",
    "\n",
    "    # The alpha\n",
    "    print('alpha: ', str(rr_alpha))\n",
    "    # The coefficients\n",
    "    print('Coefficients: \\n', rr_model.coef_)\n",
    "    # The mean square error\n",
    "    print(\"Residual sum of squares: %.2f\"\n",
    "          % np.mean((rr_model.predict(cf_pd_test[my_features]) - cf_pd_test[\"BOX\"]) ** 2))\n",
    "    # Explained variance score: 1 is perfect prediction\n",
    "    print('Variance score: %.2f' % rr_model.score(cf_pd_test[my_features], cf_pd_test[\"BOX\"]))\n",
    "    # Predict with all features\n",
    "    print('Predicted Box Office: %.2f' % rr_model.predict(cf_in[my_features]))\n",
    "    \n",
    "\n",
    "\n",
    "rr_cv_model = linear_model.RidgeCV()\n",
    "rr_cv_model.fit(cf_pd_train[my_features], cf_pd_train[\"BOX\"])\n",
    "\n",
    "# The alpha\n",
    "print('alpha: ', rr_cv_model.alpha_)\n",
    "# The coefficients\n",
    "print('Coefficients: \\n', rr_cv_model.coef_)\n",
    "# The mean square error\n",
    "print(\"Residual sum of squares: %.2f\"\n",
    "      % np.mean((rr_cv_model.predict(cf_pd_test[my_features]) - cf_pd_test[\"BOX\"]) ** 2))\n",
    "# Explained variance score: 1 is perfect prediction\n",
    "print('Variance score: %.2f' % rr_cv_model.score(cf_pd_test[my_features], cf_pd_test[\"BOX\"]))\n",
    "# Predict with all features\n",
    "print('Predicted Box Office: %.2f' % rr_cv_model.predict(cf_in[my_features]))"
   ]
  },
  {
   "cell_type": "code",
   "execution_count": null,
   "metadata": {
    "collapsed": false
   },
   "outputs": [],
   "source": [
    "lasso_cv_model = linear_model.LassoCV()\n",
    "lasso_cv_model.fit(cf_pd_train[my_features], cf_pd_train[\"BOX\"])\n",
    "\n",
    "# The alpha\n",
    "print('alpha: ', lasso_cv_model.alpha_)\n",
    "# The coefficients\n",
    "print('Coefficients: \\n', lasso_cv_model.coef_)\n",
    "# The mean square error\n",
    "print(\"Residual sum of squares: %.2f\"\n",
    "      % np.mean((lasso_cv_model.predict(cf_pd_test[my_features]) - cf_pd_test[\"BOX\"]) ** 2))\n",
    "# Explained variance score: 1 is perfect prediction\n",
    "print('Variance score: %.2f' % lasso_cv_model.score(cf_pd_test[my_features], cf_pd_test[\"BOX\"]))\n",
    "# Predict with all features\n",
    "print('Predicted Box Office: %.2f' % lasso_cv_model.predict(cf_in[my_features]))\n"
   ]
  },
  {
   "cell_type": "code",
   "execution_count": null,
   "metadata": {
    "collapsed": true
   },
   "outputs": [],
   "source": [
    "my_features_lasso = ['BUDGET', 'scrCnt', 'GENRE_THR', 'GENRE_COM', 'GENRE_HOR', 'GENRE_FAM', 'NTITLE'\n",
    "                     , 'avgImpPrem', 'avgEarExp', 'avgLockIn', 'avgResolut', 'NSCENE']\n",
    "\n",
    "rr_cv_lasso_model = linear_model.RidgeCV()\n",
    "rr_cv_lasso_model.fit(cf_pd_train[my_features_lasso], cf_pd_train[\"BOX\"])\n",
    "\n",
    "# The alpha\n",
    "print('alpha: ', rr_cv_lasso_model.alpha_)\n",
    "# The coefficients\n",
    "print('Coefficients: \\n', rr_cv_lasso_model.coef_)\n",
    "# The mean square error\n",
    "print(\"Residual sum of squares: %.2f\"\n",
    "      % np.mean((rr_cv_lasso_model.predict(cf_pd_test[my_features_lasso]) - cf_pd_test[\"BOX\"]) ** 2))\n",
    "# Explained variance score: 1 is perfect prediction\n",
    "print('Variance score: %.2f' % rr_cv_lasso_model.score(cf_pd_test[my_features_lasso], cf_pd_test[\"BOX\"]))\n",
    "# Predict with all features\n",
    "print('Predicted Box Office: %.2f' % rr_cv_lasso_model.predict(cf_in[my_features_lasso]))\n"
   ]
  },
  {
   "cell_type": "code",
   "execution_count": null,
   "metadata": {
    "collapsed": false
   },
   "outputs": [],
   "source": [
    "elastic_net_model = linear_model.ElasticNetCV()\n",
    "elastic_net_model.fit(cf_pd_train[my_features], cf_pd_train[\"BOX\"])\n",
    "\n",
    "# The alpha\n",
    "print('alpha: ', elastic_net_model.alpha_)\n",
    "# The l1 ration\n",
    "print('l1 ratio: ', elastic_net_model.l1_ratio_)\n",
    "# The coefficients\n",
    "print('Coefficients: \\n', elastic_net_model.coef_)\n",
    "# The mean square error\n",
    "print(\"Residual sum of squares: %.2f\"\n",
    "      % np.mean((elastic_net_model.predict(cf_pd_test[my_features]) - cf_pd_test[\"BOX\"]) ** 2))\n",
    "# Explained variance score: 1 is perfect prediction\n",
    "print('Variance score: %.2f' % elastic_net_model.score(cf_pd_test[my_features], cf_pd_test[\"BOX\"]))\n",
    "# Predict with all features\n",
    "print('Predicted Box Office: %.2f' % elastic_net_model.predict(cf_in[my_features]))\n"
   ]
  },
  {
   "cell_type": "code",
   "execution_count": null,
   "metadata": {
    "collapsed": false
   },
   "outputs": [],
   "source": [
    "elastic_net_model = linear_model.ElasticNetCV()\n",
    "elastic_net_model.fit(cf_pd_train[my_features_lasso], cf_pd_train[\"BOX\"])\n",
    "\n",
    "# The alpha\n",
    "print('alpha: ', elastic_net_model.alpha_)\n",
    "# The l1 ration\n",
    "print('l1 ratio: ', elastic_net_model.l1_ratio_)\n",
    "# The coefficients\n",
    "print('Coefficients: \\n', elastic_net_model.coef_)\n",
    "# The mean square error\n",
    "print(\"Residual sum of squares: %.2f\"\n",
    "      % np.mean((elastic_net_model.predict(cf_pd_test[my_features_lasso]) - cf_pd_test[\"BOX\"]) ** 2))\n",
    "# Explained variance score: 1 is perfect prediction\n",
    "print('Variance score: %.2f' % elastic_net_model.score(cf_pd_test[my_features_lasso], cf_pd_test[\"BOX\"]))\n",
    "# Predict with all features\n",
    "print('Predicted Box Office: %.2f' % elastic_net_model.predict(cf_in[my_features_lasso]))\n"
   ]
  },
  {
   "cell_type": "code",
   "execution_count": null,
   "metadata": {
    "collapsed": true
   },
   "outputs": [],
   "source": [
    "my_features_small = ['BUDGET', 'scrCnt', 'NSCENE']\n",
    "\n",
    "from sklearn import linear_model\n",
    "lr_model_small = linear_model.LinearRegression()\n",
    "LinearRegression(copy_X=True, fit_intercept=True, n_jobs=1, normalize=True)\n",
    "lr_model_small.fit(cf_pd_train[my_features_small], cf_pd_train[\"BOX\"])\n",
    "\n",
    "\n",
    "# The coefficients\n",
    "print('Coefficients: \\n', lr_model_small.coef_)\n",
    "# The mean square error\n",
    "print(\"Residual sum of squares: %.2f\"\n",
    "      % np.mean((lr_model_small.predict(cf_pd_test[my_features_small]) - cf_pd_test[\"BOX\"]) ** 2))\n",
    "# Explained variance score: 1 is perfect prediction\n",
    "print('Variance score: %.2f' % lr_model_small.score(cf_pd_test[my_features_small], cf_pd_test[\"BOX\"]))\n",
    "# Predict with all features\n",
    "print('Predicted Box Office: %.2f' % lr_model_small.predict(cf_in[my_features_small]))"
   ]
  },
  {
   "cell_type": "code",
   "execution_count": null,
   "metadata": {
    "collapsed": false
   },
   "outputs": [],
   "source": [
    "lasso_lars_model = linear_model.LassoLarsCV(fit_intercept=True)\n",
    "lasso_lars_model.fit(cf_pd_train[my_features], cf_pd_train[\"BOX\"])\n",
    "\n",
    "# The alpha\n",
    "print('alpha: ', lasso_lars_model.alpha_)\n",
    "# The coefficients\n",
    "print('Coefficients: \\n', lasso_lars_model.coef_)\n",
    "# The mean square error\n",
    "print(\"Residual sum of squares: %.2f\"\n",
    "      % np.mean((lasso_lars_model.predict(cf_pd_test[my_features]) - cf_pd_test[\"BOX\"]) ** 2))\n",
    "# Explained variance score: 1 is perfect prediction\n",
    "print('Variance score: %.2f' % lasso_lars_model.score(cf_pd_test[my_features], cf_pd_test[\"BOX\"]))\n",
    "# Predict with all features\n",
    "print('Predicted Box Office: %.2f' % lasso_lars_model.predict(cf_in[my_features]))"
   ]
  },
  {
   "cell_type": "code",
   "execution_count": null,
   "metadata": {
    "collapsed": true
   },
   "outputs": [],
   "source": [
    "my_lasso_lars_features = ['BUDGET', 'scrCnt', 'GENRE_FAM', 'NTITLE']\n",
    "\n",
    "from sklearn import linear_model\n",
    "lr_model_small_lasso_lars = linear_model.LinearRegression()\n",
    "LinearRegression(copy_X=True, fit_intercept=True, n_jobs=1, normalize=True)\n",
    "lr_model_small_lasso_lars.fit(cf_pd_train[my_lasso_lars_features], cf_pd_train[\"BOX\"])\n",
    "\n",
    "\n",
    "# The coefficients\n",
    "print('Coefficients: \\n', lr_model_small_lasso_lars.coef_)\n",
    "# The mean square error\n",
    "print(\"Residual sum of squares: %.2f\"\n",
    "      % np.mean((lr_model_small_lasso_lars.predict(cf_pd_test[my_lasso_lars_features]) - cf_pd_test[\"BOX\"]) ** 2))\n",
    "# Explained variance score: 1 is perfect prediction\n",
    "print('Variance score: %.2f' % lr_model_small_lasso_lars.score(cf_pd_test[my_lasso_lars_features], cf_pd_test[\"BOX\"]))\n",
    "# Predict with all features\n",
    "print('Predicted Box Office: %.2f' % lr_model_small_lasso_lars.predict(cf_in[my_lasso_lars_features]))"
   ]
  },
  {
   "cell_type": "code",
   "execution_count": null,
   "metadata": {
    "collapsed": false
   },
   "outputs": [],
   "source": [
    "from sklearn import linear_model\n",
    "br_model = linear_model.BayesianRidge()\n",
    "br_model.fit(cf_pd_train[my_lasso_lars_features], cf_pd_train[\"BOX\"])\n",
    "\n",
    "\n",
    "# The coefficients\n",
    "print('Coefficients: \\n', br_model.coef_)\n",
    "# The mean square error\n",
    "print(\"Residual sum of squares: %.2f\"\n",
    "      % np.mean((br_model.predict(cf_pd_test[my_lasso_lars_features]) - cf_pd_test[\"BOX\"]) ** 2))\n",
    "# Explained variance score: 1 is perfect prediction\n",
    "print('Variance score: %.2f' % br_model.score(cf_pd_test[my_lasso_lars_features], cf_pd_test[\"BOX\"]))\n",
    "# Predict with all features\n",
    "print('Predicted Box Office: %.2f' % br_model.predict(cf_in[my_lasso_lars_features]))"
   ]
  },
  {
   "cell_type": "code",
   "execution_count": null,
   "metadata": {
    "collapsed": false
   },
   "outputs": [],
   "source": [
    "from sklearn import linear_model\n",
    "br_model = linear_model.BayesianRidge()\n",
    "br_model.fit(cf_pd_train[my_features_lasso], cf_pd_train[\"BOX\"])\n",
    "\n",
    "\n",
    "# The coefficients\n",
    "print('Coefficients: \\n', br_model.coef_)\n",
    "# The mean square error\n",
    "print(\"Residual sum of squares: %.2f\"\n",
    "      % np.mean((br_model.predict(cf_pd_test[my_features_lasso]) - cf_pd_test[\"BOX\"]) ** 2))\n",
    "# Explained variance score: 1 is perfect prediction\n",
    "print('Variance score: %.2f' % br_model.score(cf_pd_test[my_features_lasso], cf_pd_test[\"BOX\"]))\n",
    "# Predict with all features\n",
    "print('Predicted Box Office: %.2f' % br_model.predict(cf_in[my_features_lasso]))\n"
   ]
  },
  {
   "cell_type": "code",
   "execution_count": null,
   "metadata": {
    "collapsed": false
   },
   "outputs": [],
   "source": [
    "rr_cv_model = linear_model.RidgeCV()\n",
    "rr_cv_model.fit(cf_pd_train[my_features_lasso], cf_pd_train[\"BOX\"])\n",
    "\n",
    "# The alpha\n",
    "print('alpha: ', rr_cv_model.alpha_)\n",
    "# The coefficients\n",
    "print('Coefficients: \\n', rr_cv_model.coef_)\n",
    "# The mean square error\n",
    "print(\"Residual sum of squares: %.2f\"\n",
    "      % np.mean((rr_cv_model.predict(cf_pd_test[my_features_lasso]) - cf_pd_test[\"BOX\"]) ** 2))\n",
    "# Explained variance score: 1 is perfect prediction\n",
    "print('Variance score: %.2f' % rr_cv_model.score(cf_pd_test[my_features_lasso], cf_pd_test[\"BOX\"]))\n",
    "# Predict with all features\n",
    "print('Predicted Box Office: %.2f' % rr_cv_model.predict(cf_in[my_features_lasso]))"
   ]
  },
  {
   "cell_type": "code",
   "execution_count": null,
   "metadata": {
    "collapsed": false
   },
   "outputs": [],
   "source": [
    "rr_cv_model = linear_model.RidgeCV()\n",
    "rr_cv_model.fit(cf_pd_train[my_lasso_lars_features], cf_pd_train[\"BOX\"])\n",
    "\n",
    "# The alpha\n",
    "print('alpha: ', rr_cv_model.alpha_)\n",
    "# The coefficients\n",
    "print('Coefficients: \\n', rr_cv_model.coef_)\n",
    "# The mean square error\n",
    "print(\"Residual sum of squares: %.2f\"\n",
    "      % np.mean((rr_cv_model.predict(cf_pd_test[my_lasso_lars_features]) - cf_pd_test[\"BOX\"]) ** 2))\n",
    "# Explained variance score: 1 is perfect prediction\n",
    "print('Variance score: %.2f' % rr_cv_model.score(cf_pd_test[my_lasso_lars_features], cf_pd_test[\"BOX\"]))\n",
    "# Predict with all features\n",
    "print('Predicted Box Office: %.2f' % rr_cv_model.predict(cf_in[my_lasso_lars_features]))"
   ]
  },
  {
   "cell_type": "code",
   "execution_count": null,
   "metadata": {
    "collapsed": true
   },
   "outputs": [],
   "source": []
  },
  {
   "cell_type": "code",
   "execution_count": null,
   "metadata": {
    "collapsed": true
   },
   "outputs": [],
   "source": []
  }
 ],
 "metadata": {
  "anaconda-cloud": {},
  "kernelspec": {
   "display_name": "Python [default]",
   "language": "python",
   "name": "python3"
  },
  "language_info": {
   "codemirror_mode": {
    "name": "ipython",
    "version": 3
   },
   "file_extension": ".py",
   "mimetype": "text/x-python",
   "name": "python",
   "nbconvert_exporter": "python",
   "pygments_lexer": "ipython3",
   "version": "3.5.2"
  }
 },
 "nbformat": 4,
 "nbformat_minor": 0
}
